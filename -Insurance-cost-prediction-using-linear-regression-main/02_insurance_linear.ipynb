{
  "nbformat": 4,
  "nbformat_minor": 0,
  "metadata": {
    "colab": {
      "name": "02-insurance-linear.ipynb",
      "provenance": []
    },
    "kernelspec": {
      "display_name": "Python 3",
      "language": "python",
      "name": "python3"
    },
    "language_info": {
      "codemirror_mode": {
        "name": "ipython",
        "version": 3
      },
      "file_extension": ".py",
      "mimetype": "text/x-python",
      "name": "python",
      "nbconvert_exporter": "python",
      "pygments_lexer": "ipython3",
      "version": "3.8.5"
    },
    "widgets": {
      "application/vnd.jupyter.widget-state+json": {
        "ed5f5cb2241344d4a360a0682f4a87d1": {
          "model_module": "@jupyter-widgets/controls",
          "model_name": "HBoxModel",
          "state": {
            "_dom_classes": [],
            "_model_module": "@jupyter-widgets/controls",
            "_model_module_version": "1.5.0",
            "_model_name": "HBoxModel",
            "_view_count": null,
            "_view_module": "@jupyter-widgets/controls",
            "_view_module_version": "1.5.0",
            "_view_name": "HBoxView",
            "box_style": "",
            "children": [
              "IPY_MODEL_5411c4876e3c4d8abbb1ca6a2022d5bd",
              "IPY_MODEL_7482ca0b3f2b464e9e4b20d6714ab8ad"
            ],
            "layout": "IPY_MODEL_0cfd7d3e87064690af34c0d8a2db046c"
          }
        },
        "0cfd7d3e87064690af34c0d8a2db046c": {
          "model_module": "@jupyter-widgets/base",
          "model_name": "LayoutModel",
          "state": {
            "_model_module": "@jupyter-widgets/base",
            "_model_module_version": "1.2.0",
            "_model_name": "LayoutModel",
            "_view_count": null,
            "_view_module": "@jupyter-widgets/base",
            "_view_module_version": "1.2.0",
            "_view_name": "LayoutView",
            "align_content": null,
            "align_items": null,
            "align_self": null,
            "border": null,
            "bottom": null,
            "display": null,
            "flex": null,
            "flex_flow": null,
            "grid_area": null,
            "grid_auto_columns": null,
            "grid_auto_flow": null,
            "grid_auto_rows": null,
            "grid_column": null,
            "grid_gap": null,
            "grid_row": null,
            "grid_template_areas": null,
            "grid_template_columns": null,
            "grid_template_rows": null,
            "height": null,
            "justify_content": null,
            "justify_items": null,
            "left": null,
            "margin": null,
            "max_height": null,
            "max_width": null,
            "min_height": null,
            "min_width": null,
            "object_fit": null,
            "object_position": null,
            "order": null,
            "overflow": null,
            "overflow_x": null,
            "overflow_y": null,
            "padding": null,
            "right": null,
            "top": null,
            "visibility": null,
            "width": null
          }
        },
        "5411c4876e3c4d8abbb1ca6a2022d5bd": {
          "model_module": "@jupyter-widgets/controls",
          "model_name": "FloatProgressModel",
          "state": {
            "_dom_classes": [],
            "_model_module": "@jupyter-widgets/controls",
            "_model_module_version": "1.5.0",
            "_model_name": "FloatProgressModel",
            "_view_count": null,
            "_view_module": "@jupyter-widgets/controls",
            "_view_module_version": "1.5.0",
            "_view_name": "ProgressView",
            "bar_style": "success",
            "description": "",
            "description_tooltip": null,
            "layout": "IPY_MODEL_53052ec162304c58bbbea3d82abd617f",
            "max": 55628,
            "min": 0,
            "orientation": "horizontal",
            "style": "IPY_MODEL_043f569becb24e19991022627c7ad10d",
            "value": 55628
          }
        },
        "7482ca0b3f2b464e9e4b20d6714ab8ad": {
          "model_module": "@jupyter-widgets/controls",
          "model_name": "HTMLModel",
          "state": {
            "_dom_classes": [],
            "_model_module": "@jupyter-widgets/controls",
            "_model_module_version": "1.5.0",
            "_model_name": "HTMLModel",
            "_view_count": null,
            "_view_module": "@jupyter-widgets/controls",
            "_view_module_version": "1.5.0",
            "_view_name": "HTMLView",
            "description": "",
            "description_tooltip": null,
            "layout": "IPY_MODEL_75e90e111da1412c822a510c9c7694d5",
            "placeholder": "​",
            "style": "IPY_MODEL_fc109cfc97c543f78ed77f2e6e437cfa",
            "value": " 56320/? [01:37&lt;00:00, 575.20it/s]"
          }
        },
        "043f569becb24e19991022627c7ad10d": {
          "model_module": "@jupyter-widgets/controls",
          "model_name": "ProgressStyleModel",
          "state": {
            "_model_module": "@jupyter-widgets/controls",
            "_model_module_version": "1.5.0",
            "_model_name": "ProgressStyleModel",
            "_view_count": null,
            "_view_module": "@jupyter-widgets/base",
            "_view_module_version": "1.2.0",
            "_view_name": "StyleView",
            "bar_color": null,
            "description_width": "initial"
          }
        },
        "53052ec162304c58bbbea3d82abd617f": {
          "model_module": "@jupyter-widgets/base",
          "model_name": "LayoutModel",
          "state": {
            "_model_module": "@jupyter-widgets/base",
            "_model_module_version": "1.2.0",
            "_model_name": "LayoutModel",
            "_view_count": null,
            "_view_module": "@jupyter-widgets/base",
            "_view_module_version": "1.2.0",
            "_view_name": "LayoutView",
            "align_content": null,
            "align_items": null,
            "align_self": null,
            "border": null,
            "bottom": null,
            "display": null,
            "flex": null,
            "flex_flow": null,
            "grid_area": null,
            "grid_auto_columns": null,
            "grid_auto_flow": null,
            "grid_auto_rows": null,
            "grid_column": null,
            "grid_gap": null,
            "grid_row": null,
            "grid_template_areas": null,
            "grid_template_columns": null,
            "grid_template_rows": null,
            "height": null,
            "justify_content": null,
            "justify_items": null,
            "left": null,
            "margin": null,
            "max_height": null,
            "max_width": null,
            "min_height": null,
            "min_width": null,
            "object_fit": null,
            "object_position": null,
            "order": null,
            "overflow": null,
            "overflow_x": null,
            "overflow_y": null,
            "padding": null,
            "right": null,
            "top": null,
            "visibility": null,
            "width": null
          }
        },
        "fc109cfc97c543f78ed77f2e6e437cfa": {
          "model_module": "@jupyter-widgets/controls",
          "model_name": "DescriptionStyleModel",
          "state": {
            "_model_module": "@jupyter-widgets/controls",
            "_model_module_version": "1.5.0",
            "_model_name": "DescriptionStyleModel",
            "_view_count": null,
            "_view_module": "@jupyter-widgets/base",
            "_view_module_version": "1.2.0",
            "_view_name": "StyleView",
            "description_width": ""
          }
        },
        "75e90e111da1412c822a510c9c7694d5": {
          "model_module": "@jupyter-widgets/base",
          "model_name": "LayoutModel",
          "state": {
            "_model_module": "@jupyter-widgets/base",
            "_model_module_version": "1.2.0",
            "_model_name": "LayoutModel",
            "_view_count": null,
            "_view_module": "@jupyter-widgets/base",
            "_view_module_version": "1.2.0",
            "_view_name": "LayoutView",
            "align_content": null,
            "align_items": null,
            "align_self": null,
            "border": null,
            "bottom": null,
            "display": null,
            "flex": null,
            "flex_flow": null,
            "grid_area": null,
            "grid_auto_columns": null,
            "grid_auto_flow": null,
            "grid_auto_rows": null,
            "grid_column": null,
            "grid_gap": null,
            "grid_row": null,
            "grid_template_areas": null,
            "grid_template_columns": null,
            "grid_template_rows": null,
            "height": null,
            "justify_content": null,
            "justify_items": null,
            "left": null,
            "margin": null,
            "max_height": null,
            "max_width": null,
            "min_height": null,
            "min_width": null,
            "object_fit": null,
            "object_position": null,
            "order": null,
            "overflow": null,
            "overflow_x": null,
            "overflow_y": null,
            "padding": null,
            "right": null,
            "top": null,
            "visibility": null,
            "width": null
          }
        }
      }
    }
  },
  "cells": [
    {
      "cell_type": "code",
      "metadata": {
        "id": "X5LRvE9AfLuo"
      },
      "source": [
        "import torch\n",
        "import jovian\n",
        "import torchvision\n",
        "import torch.nn as nn\n",
        "import pandas as pd\n",
        "import numpy as np\n",
        "import matplotlib.pyplot as plt\n",
        "import torch.nn.functional as F\n",
        "from torchvision.datasets.utils import download_url\n",
        "from torch.utils.data import DataLoader, TensorDataset, random_split"
      ],
      "execution_count": null,
      "outputs": []
    },
    {
      "cell_type": "code",
      "metadata": {
        "id": "-6hQ9Yh9fLup"
      },
      "source": [
        "project_name='02-insurance-linear-regression' # will be used by jovian.commit"
      ],
      "execution_count": null,
      "outputs": []
    },
    {
      "cell_type": "markdown",
      "metadata": {
        "id": "-Q3YbYg_fLup"
      },
      "source": [
        "## Step 1: Download and explore the data\n",
        "\n",
        "Let us begin by downloading the data. We'll use the `download_url` function from PyTorch to get the data as a CSV (comma-separated values) file. "
      ]
    },
    {
      "cell_type": "code",
      "metadata": {
        "_cell_guid": "79c7e3d0-c299-4dcb-8224-4455121ee9b0",
        "_uuid": "d629ff2d2480ee46fbb7e2d37f6b5fab8052498a",
        "colab": {
          "base_uri": "https://localhost:8080/",
          "height": 83,
          "referenced_widgets": [
            "ed5f5cb2241344d4a360a0682f4a87d1",
            "0cfd7d3e87064690af34c0d8a2db046c",
            "5411c4876e3c4d8abbb1ca6a2022d5bd",
            "7482ca0b3f2b464e9e4b20d6714ab8ad",
            "043f569becb24e19991022627c7ad10d",
            "53052ec162304c58bbbea3d82abd617f",
            "fc109cfc97c543f78ed77f2e6e437cfa",
            "75e90e111da1412c822a510c9c7694d5"
          ]
        },
        "id": "JfCeXk4jfLuq",
        "outputId": "42c102ff-4e56-486b-95b1-e6435e2f5dbb"
      },
      "source": [
        "DATASET_URL = \"https://hub.jovian.ml/wp-content/uploads/2020/05/insurance.csv\"\n",
        "DATA_FILENAME = \"insurance.csv\"\n",
        "download_url(DATASET_URL, '.')"
      ],
      "execution_count": null,
      "outputs": [
        {
          "output_type": "stream",
          "text": [
            "Downloading https://hub.jovian.ml/wp-content/uploads/2020/05/insurance.csv to ./insurance.csv\n"
          ],
          "name": "stdout"
        },
        {
          "output_type": "display_data",
          "data": {
            "application/vnd.jupyter.widget-view+json": {
              "model_id": "ed5f5cb2241344d4a360a0682f4a87d1",
              "version_major": 2,
              "version_minor": 0
            },
            "text/plain": [
              "HBox(children=(FloatProgress(value=0.0, max=55628.0), HTML(value='')))"
            ]
          },
          "metadata": {
            "tags": []
          }
        },
        {
          "output_type": "stream",
          "text": [
            "\n"
          ],
          "name": "stdout"
        }
      ]
    },
    {
      "cell_type": "markdown",
      "metadata": {
        "id": "wn8KReWzfLur"
      },
      "source": [
        "To load the dataset into memory, we'll use the `read_csv` function from the `pandas` library. The data will be loaded as a Pandas dataframe. See this short tutorial to learn more: https://data36.com/pandas-tutorial-1-basics-reading-data-files-dataframes-data-selection/"
      ]
    },
    {
      "cell_type": "code",
      "metadata": {
        "colab": {
          "base_uri": "https://localhost:8080/",
          "height": 204
        },
        "id": "PCfHx3_UfLus",
        "outputId": "8157fd4c-e092-4d2f-8a0f-72d06acead25"
      },
      "source": [
        "dataframe_raw = pd.read_csv(DATA_FILENAME)\n",
        "dataframe_raw.head()"
      ],
      "execution_count": null,
      "outputs": [
        {
          "output_type": "execute_result",
          "data": {
            "text/html": [
              "<div>\n",
              "<style scoped>\n",
              "    .dataframe tbody tr th:only-of-type {\n",
              "        vertical-align: middle;\n",
              "    }\n",
              "\n",
              "    .dataframe tbody tr th {\n",
              "        vertical-align: top;\n",
              "    }\n",
              "\n",
              "    .dataframe thead th {\n",
              "        text-align: right;\n",
              "    }\n",
              "</style>\n",
              "<table border=\"1\" class=\"dataframe\">\n",
              "  <thead>\n",
              "    <tr style=\"text-align: right;\">\n",
              "      <th></th>\n",
              "      <th>age</th>\n",
              "      <th>sex</th>\n",
              "      <th>bmi</th>\n",
              "      <th>children</th>\n",
              "      <th>smoker</th>\n",
              "      <th>region</th>\n",
              "      <th>charges</th>\n",
              "    </tr>\n",
              "  </thead>\n",
              "  <tbody>\n",
              "    <tr>\n",
              "      <th>0</th>\n",
              "      <td>19</td>\n",
              "      <td>female</td>\n",
              "      <td>27.900</td>\n",
              "      <td>0</td>\n",
              "      <td>yes</td>\n",
              "      <td>southwest</td>\n",
              "      <td>16884.92400</td>\n",
              "    </tr>\n",
              "    <tr>\n",
              "      <th>1</th>\n",
              "      <td>18</td>\n",
              "      <td>male</td>\n",
              "      <td>33.770</td>\n",
              "      <td>1</td>\n",
              "      <td>no</td>\n",
              "      <td>southeast</td>\n",
              "      <td>1725.55230</td>\n",
              "    </tr>\n",
              "    <tr>\n",
              "      <th>2</th>\n",
              "      <td>28</td>\n",
              "      <td>male</td>\n",
              "      <td>33.000</td>\n",
              "      <td>3</td>\n",
              "      <td>no</td>\n",
              "      <td>southeast</td>\n",
              "      <td>4449.46200</td>\n",
              "    </tr>\n",
              "    <tr>\n",
              "      <th>3</th>\n",
              "      <td>33</td>\n",
              "      <td>male</td>\n",
              "      <td>22.705</td>\n",
              "      <td>0</td>\n",
              "      <td>no</td>\n",
              "      <td>northwest</td>\n",
              "      <td>21984.47061</td>\n",
              "    </tr>\n",
              "    <tr>\n",
              "      <th>4</th>\n",
              "      <td>32</td>\n",
              "      <td>male</td>\n",
              "      <td>28.880</td>\n",
              "      <td>0</td>\n",
              "      <td>no</td>\n",
              "      <td>northwest</td>\n",
              "      <td>3866.85520</td>\n",
              "    </tr>\n",
              "  </tbody>\n",
              "</table>\n",
              "</div>"
            ],
            "text/plain": [
              "   age     sex     bmi  children smoker     region      charges\n",
              "0   19  female  27.900         0    yes  southwest  16884.92400\n",
              "1   18    male  33.770         1     no  southeast   1725.55230\n",
              "2   28    male  33.000         3     no  southeast   4449.46200\n",
              "3   33    male  22.705         0     no  northwest  21984.47061\n",
              "4   32    male  28.880         0     no  northwest   3866.85520"
            ]
          },
          "metadata": {
            "tags": []
          },
          "execution_count": 13
        }
      ]
    },
    {
      "cell_type": "markdown",
      "metadata": {
        "id": "qTfj5DqKfLut"
      },
      "source": [
        "We're going to do a slight customization of the data, so that you every participant receives a slightly different version of the dataset. Fill in your name below as a string (enter at least 5 characters)"
      ]
    },
    {
      "cell_type": "code",
      "metadata": {
        "id": "LN_cRMrCfLut"
      },
      "source": [
        "your_name = 'Syeeda Kudhsia Fatima' # at least 5 characters"
      ],
      "execution_count": null,
      "outputs": []
    },
    {
      "cell_type": "markdown",
      "metadata": {
        "id": "5zkuoXROfLuu"
      },
      "source": [
        "The `customize_dataset` function will customize the dataset slightly using your name as a source of random numbers."
      ]
    },
    {
      "cell_type": "code",
      "metadata": {
        "id": "AanEuuHkfLuu"
      },
      "source": [
        "def customize_dataset(dataframe_raw, rand_str):\n",
        "    dataframe = dataframe_raw.copy(deep=True)\n",
        "    # drop some rows\n",
        "    dataframe = dataframe.sample(int(0.95*len(dataframe)), random_state=int(ord(rand_str[0])))\n",
        "    # scale input\n",
        "    dataframe.bmi = dataframe.bmi * ord(rand_str[1])/100.\n",
        "    # scale target\n",
        "    dataframe.charges = dataframe.charges * ord(rand_str[2])/100.\n",
        "    # drop column\n",
        "    if ord(rand_str[3]) % 2 == 1:\n",
        "        dataframe = dataframe.drop(['region'], axis=1)\n",
        "    return dataframe"
      ],
      "execution_count": null,
      "outputs": []
    },
    {
      "cell_type": "code",
      "metadata": {
        "colab": {
          "base_uri": "https://localhost:8080/",
          "height": 204
        },
        "id": "2gocjWERfLuu",
        "outputId": "ac25e534-c63c-4fb0-fe95-a288fd370e18"
      },
      "source": [
        "data = customize_dataset(dataframe_raw, your_name)\n",
        "data.head()"
      ],
      "execution_count": null,
      "outputs": [
        {
          "output_type": "execute_result",
          "data": {
            "text/html": [
              "<div>\n",
              "<style scoped>\n",
              "    .dataframe tbody tr th:only-of-type {\n",
              "        vertical-align: middle;\n",
              "    }\n",
              "\n",
              "    .dataframe tbody tr th {\n",
              "        vertical-align: top;\n",
              "    }\n",
              "\n",
              "    .dataframe thead th {\n",
              "        text-align: right;\n",
              "    }\n",
              "</style>\n",
              "<table border=\"1\" class=\"dataframe\">\n",
              "  <thead>\n",
              "    <tr style=\"text-align: right;\">\n",
              "      <th></th>\n",
              "      <th>age</th>\n",
              "      <th>sex</th>\n",
              "      <th>bmi</th>\n",
              "      <th>children</th>\n",
              "      <th>smoker</th>\n",
              "      <th>charges</th>\n",
              "    </tr>\n",
              "  </thead>\n",
              "  <tbody>\n",
              "    <tr>\n",
              "      <th>665</th>\n",
              "      <td>43</td>\n",
              "      <td>male</td>\n",
              "      <td>46.05260</td>\n",
              "      <td>2</td>\n",
              "      <td>yes</td>\n",
              "      <td>42986.034704</td>\n",
              "    </tr>\n",
              "    <tr>\n",
              "      <th>579</th>\n",
              "      <td>25</td>\n",
              "      <td>female</td>\n",
              "      <td>28.39265</td>\n",
              "      <td>0</td>\n",
              "      <td>no</td>\n",
              "      <td>3238.556263</td>\n",
              "    </tr>\n",
              "    <tr>\n",
              "      <th>84</th>\n",
              "      <td>37</td>\n",
              "      <td>female</td>\n",
              "      <td>42.10800</td>\n",
              "      <td>2</td>\n",
              "      <td>yes</td>\n",
              "      <td>40234.884190</td>\n",
              "    </tr>\n",
              "    <tr>\n",
              "      <th>244</th>\n",
              "      <td>63</td>\n",
              "      <td>female</td>\n",
              "      <td>33.56540</td>\n",
              "      <td>0</td>\n",
              "      <td>yes</td>\n",
              "      <td>29818.397256</td>\n",
              "    </tr>\n",
              "    <tr>\n",
              "      <th>1307</th>\n",
              "      <td>32</td>\n",
              "      <td>male</td>\n",
              "      <td>34.02520</td>\n",
              "      <td>4</td>\n",
              "      <td>yes</td>\n",
              "      <td>21687.203588</td>\n",
              "    </tr>\n",
              "  </tbody>\n",
              "</table>\n",
              "</div>"
            ],
            "text/plain": [
              "      age     sex       bmi  children smoker       charges\n",
              "665    43    male  46.05260         2    yes  42986.034704\n",
              "579    25  female  28.39265         0     no   3238.556263\n",
              "84     37  female  42.10800         2    yes  40234.884190\n",
              "244    63  female  33.56540         0    yes  29818.397256\n",
              "1307   32    male  34.02520         4    yes  21687.203588"
            ]
          },
          "metadata": {
            "tags": []
          },
          "execution_count": 161
        }
      ]
    },
    {
      "cell_type": "code",
      "metadata": {
        "colab": {
          "base_uri": "https://localhost:8080/"
        },
        "id": "Bh3BkZTYM_AN",
        "outputId": "e15573dd-1791-42a9-9b86-771c0d550210"
      },
      "source": [
        "data.shape"
      ],
      "execution_count": null,
      "outputs": [
        {
          "output_type": "execute_result",
          "data": {
            "text/plain": [
              "(1271, 6)"
            ]
          },
          "metadata": {
            "tags": []
          },
          "execution_count": 162
        }
      ]
    },
    {
      "cell_type": "code",
      "metadata": {
        "colab": {
          "base_uri": "https://localhost:8080/"
        },
        "id": "coU1PSzxNFX2",
        "outputId": "1a71b2e3-d5ee-4e75-c822-0624ba55efc3"
      },
      "source": [
        "data.columns.values"
      ],
      "execution_count": null,
      "outputs": [
        {
          "output_type": "execute_result",
          "data": {
            "text/plain": [
              "array(['age', 'sex', 'bmi', 'children', 'smoker', 'charges'], dtype=object)"
            ]
          },
          "metadata": {
            "tags": []
          },
          "execution_count": 163
        }
      ]
    },
    {
      "cell_type": "code",
      "metadata": {
        "colab": {
          "base_uri": "https://localhost:8080/"
        },
        "id": "G1vTfWbVNFU-",
        "outputId": "c5d868db-df92-48bf-af58-28e66ff26b67"
      },
      "source": [
        "data.isna().sum()"
      ],
      "execution_count": null,
      "outputs": [
        {
          "output_type": "execute_result",
          "data": {
            "text/plain": [
              "age         0\n",
              "sex         0\n",
              "bmi         0\n",
              "children    0\n",
              "smoker      0\n",
              "charges     0\n",
              "dtype: int64"
            ]
          },
          "metadata": {
            "tags": []
          },
          "execution_count": 165
        }
      ]
    },
    {
      "cell_type": "code",
      "metadata": {
        "colab": {
          "base_uri": "https://localhost:8080/",
          "height": 297
        },
        "id": "jl_VyeW8NFSQ",
        "outputId": "bdf4468b-dc0d-4d2e-ee71-4b2d163a07eb"
      },
      "source": [
        "data.describe()"
      ],
      "execution_count": null,
      "outputs": [
        {
          "output_type": "execute_result",
          "data": {
            "text/html": [
              "<div>\n",
              "<style scoped>\n",
              "    .dataframe tbody tr th:only-of-type {\n",
              "        vertical-align: middle;\n",
              "    }\n",
              "\n",
              "    .dataframe tbody tr th {\n",
              "        vertical-align: top;\n",
              "    }\n",
              "\n",
              "    .dataframe thead th {\n",
              "        text-align: right;\n",
              "    }\n",
              "</style>\n",
              "<table border=\"1\" class=\"dataframe\">\n",
              "  <thead>\n",
              "    <tr style=\"text-align: right;\">\n",
              "      <th></th>\n",
              "      <th>age</th>\n",
              "      <th>bmi</th>\n",
              "      <th>children</th>\n",
              "      <th>charges</th>\n",
              "    </tr>\n",
              "  </thead>\n",
              "  <tbody>\n",
              "    <tr>\n",
              "      <th>count</th>\n",
              "      <td>1271.000000</td>\n",
              "      <td>1271.000000</td>\n",
              "      <td>1271.000000</td>\n",
              "      <td>1271.000000</td>\n",
              "    </tr>\n",
              "    <tr>\n",
              "      <th>mean</th>\n",
              "      <td>39.322581</td>\n",
              "      <td>37.079084</td>\n",
              "      <td>1.103855</td>\n",
              "      <td>13518.891197</td>\n",
              "    </tr>\n",
              "    <tr>\n",
              "      <th>std</th>\n",
              "      <td>14.059260</td>\n",
              "      <td>7.346579</td>\n",
              "      <td>1.210938</td>\n",
              "      <td>12333.883008</td>\n",
              "    </tr>\n",
              "    <tr>\n",
              "      <th>min</th>\n",
              "      <td>18.000000</td>\n",
              "      <td>19.311600</td>\n",
              "      <td>0.000000</td>\n",
              "      <td>1133.092639</td>\n",
              "    </tr>\n",
              "    <tr>\n",
              "      <th>25%</th>\n",
              "      <td>27.000000</td>\n",
              "      <td>31.841150</td>\n",
              "      <td>0.000000</td>\n",
              "      <td>4794.165435</td>\n",
              "    </tr>\n",
              "    <tr>\n",
              "      <th>50%</th>\n",
              "      <td>40.000000</td>\n",
              "      <td>36.784000</td>\n",
              "      <td>1.000000</td>\n",
              "      <td>9505.115050</td>\n",
              "    </tr>\n",
              "    <tr>\n",
              "      <th>75%</th>\n",
              "      <td>51.000000</td>\n",
              "      <td>41.866000</td>\n",
              "      <td>2.000000</td>\n",
              "      <td>17009.074650</td>\n",
              "    </tr>\n",
              "    <tr>\n",
              "      <th>max</th>\n",
              "      <td>64.000000</td>\n",
              "      <td>64.287300</td>\n",
              "      <td>5.000000</td>\n",
              "      <td>64408.132290</td>\n",
              "    </tr>\n",
              "  </tbody>\n",
              "</table>\n",
              "</div>"
            ],
            "text/plain": [
              "               age          bmi     children       charges\n",
              "count  1271.000000  1271.000000  1271.000000   1271.000000\n",
              "mean     39.322581    37.079084     1.103855  13518.891197\n",
              "std      14.059260     7.346579     1.210938  12333.883008\n",
              "min      18.000000    19.311600     0.000000   1133.092639\n",
              "25%      27.000000    31.841150     0.000000   4794.165435\n",
              "50%      40.000000    36.784000     1.000000   9505.115050\n",
              "75%      51.000000    41.866000     2.000000  17009.074650\n",
              "max      64.000000    64.287300     5.000000  64408.132290"
            ]
          },
          "metadata": {
            "tags": []
          },
          "execution_count": 166
        }
      ]
    },
    {
      "cell_type": "code",
      "metadata": {
        "colab": {
          "base_uri": "https://localhost:8080/"
        },
        "id": "zngOF-V3fLuv",
        "outputId": "4623a563-e8e8-4b5a-bc1e-900c52d808cc"
      },
      "source": [
        "num_rows = len(data)\n",
        "print(num_rows)"
      ],
      "execution_count": null,
      "outputs": [
        {
          "output_type": "stream",
          "text": [
            "1271\n"
          ],
          "name": "stdout"
        }
      ]
    },
    {
      "cell_type": "code",
      "metadata": {
        "colab": {
          "base_uri": "https://localhost:8080/"
        },
        "id": "mPLhrKrPfLuw",
        "outputId": "cad6ca66-024c-40d2-8dee-0955e6f76090"
      },
      "source": [
        "num_cols = len(data.columns)\n",
        "print(num_cols)"
      ],
      "execution_count": null,
      "outputs": [
        {
          "output_type": "stream",
          "text": [
            "6\n"
          ],
          "name": "stdout"
        }
      ]
    },
    {
      "cell_type": "code",
      "metadata": {
        "colab": {
          "base_uri": "https://localhost:8080/"
        },
        "id": "vZYZsLvtN3dN",
        "outputId": "956148ee-5e20-4c3a-bb56-b29d9077ea66"
      },
      "source": [
        "num_cols = data.shape[1]\n",
        "num_cols"
      ],
      "execution_count": null,
      "outputs": [
        {
          "output_type": "execute_result",
          "data": {
            "text/plain": [
              "6"
            ]
          },
          "metadata": {
            "tags": []
          },
          "execution_count": 167
        }
      ]
    },
    {
      "cell_type": "code",
      "metadata": {
        "id": "hgL0dBpdfLuw"
      },
      "source": [
        "#input_cols = data.columns.values\n",
        "#input_cols"
      ],
      "execution_count": null,
      "outputs": []
    },
    {
      "cell_type": "code",
      "metadata": {
        "colab": {
          "base_uri": "https://localhost:8080/"
        },
        "id": "sYSJw6YuOIk2",
        "outputId": "df5333ee-d906-4fc2-cb48-11008f56ef01"
      },
      "source": [
        "input_cols = [i for i in data.columns[:-1]]\n",
        "input_cols"
      ],
      "execution_count": null,
      "outputs": [
        {
          "output_type": "execute_result",
          "data": {
            "text/plain": [
              "['age', 'sex', 'bmi', 'children', 'smoker']"
            ]
          },
          "metadata": {
            "tags": []
          },
          "execution_count": 171
        }
      ]
    },
    {
      "cell_type": "code",
      "metadata": {
        "colab": {
          "base_uri": "https://localhost:8080/",
          "height": 204
        },
        "id": "DckF-H6lfLux",
        "outputId": "7d1296b8-68cf-4369-b154-140021c9f68b"
      },
      "source": [
        "categorical_cols = data.loc[:,data.dtypes==np.object]\n",
        "categorical_cols.head()\n"
      ],
      "execution_count": null,
      "outputs": [
        {
          "output_type": "execute_result",
          "data": {
            "text/html": [
              "<div>\n",
              "<style scoped>\n",
              "    .dataframe tbody tr th:only-of-type {\n",
              "        vertical-align: middle;\n",
              "    }\n",
              "\n",
              "    .dataframe tbody tr th {\n",
              "        vertical-align: top;\n",
              "    }\n",
              "\n",
              "    .dataframe thead th {\n",
              "        text-align: right;\n",
              "    }\n",
              "</style>\n",
              "<table border=\"1\" class=\"dataframe\">\n",
              "  <thead>\n",
              "    <tr style=\"text-align: right;\">\n",
              "      <th></th>\n",
              "      <th>sex</th>\n",
              "      <th>smoker</th>\n",
              "    </tr>\n",
              "  </thead>\n",
              "  <tbody>\n",
              "    <tr>\n",
              "      <th>665</th>\n",
              "      <td>male</td>\n",
              "      <td>yes</td>\n",
              "    </tr>\n",
              "    <tr>\n",
              "      <th>579</th>\n",
              "      <td>female</td>\n",
              "      <td>no</td>\n",
              "    </tr>\n",
              "    <tr>\n",
              "      <th>84</th>\n",
              "      <td>female</td>\n",
              "      <td>yes</td>\n",
              "    </tr>\n",
              "    <tr>\n",
              "      <th>244</th>\n",
              "      <td>female</td>\n",
              "      <td>yes</td>\n",
              "    </tr>\n",
              "    <tr>\n",
              "      <th>1307</th>\n",
              "      <td>male</td>\n",
              "      <td>yes</td>\n",
              "    </tr>\n",
              "  </tbody>\n",
              "</table>\n",
              "</div>"
            ],
            "text/plain": [
              "         sex smoker\n",
              "665     male    yes\n",
              "579   female     no\n",
              "84    female    yes\n",
              "244   female    yes\n",
              "1307    male    yes"
            ]
          },
          "metadata": {
            "tags": []
          },
          "execution_count": 41
        }
      ]
    },
    {
      "cell_type": "code",
      "metadata": {
        "colab": {
          "base_uri": "https://localhost:8080/"
        },
        "id": "zkZ1k3BzOrh7",
        "outputId": "be8c429b-1255-4202-bb87-5f4ee7a430dd"
      },
      "source": [
        "# we only have to give column names\n",
        "columns = data.columns\n",
        "numeric_cols = data._get_numeric_data().columns\n",
        "print(numeric_cols)\n",
        "categorical_cols = list(set(columns)-set(numeric_cols))\n",
        "categorical_cols"
      ],
      "execution_count": null,
      "outputs": [
        {
          "output_type": "stream",
          "text": [
            "Index(['age', 'bmi', 'children', 'charges'], dtype='object')\n"
          ],
          "name": "stdout"
        },
        {
          "output_type": "execute_result",
          "data": {
            "text/plain": [
              "['smoker', 'sex']"
            ]
          },
          "metadata": {
            "tags": []
          },
          "execution_count": 172
        }
      ]
    },
    {
      "cell_type": "code",
      "metadata": {
        "colab": {
          "base_uri": "https://localhost:8080/"
        },
        "id": "C6zLkGZAfLux",
        "outputId": "626fd9b8-97cc-4845-ab0d-feb53a5a6f7c"
      },
      "source": [
        "input_cols = data.iloc[:,:-1]\n",
        "list(input_cols.columns.values)"
      ],
      "execution_count": null,
      "outputs": [
        {
          "output_type": "execute_result",
          "data": {
            "text/plain": [
              "['age', 'sex', 'bmi', 'children', 'smoker']"
            ]
          },
          "metadata": {
            "tags": []
          },
          "execution_count": 84
        }
      ]
    },
    {
      "cell_type": "code",
      "metadata": {
        "id": "bEKKWCwVuvXg"
      },
      "source": [
        "#output_cols = data.iloc[:,-1]\n",
        "#display(output_cols)"
      ],
      "execution_count": null,
      "outputs": []
    },
    {
      "cell_type": "code",
      "metadata": {
        "colab": {
          "base_uri": "https://localhost:8080/"
        },
        "id": "OSy8smLtQJNq",
        "outputId": "fae1e42a-1442-4b8c-bc9b-3a5f3e45f06f"
      },
      "source": [
        "output_cols = [data.columns[-1]]\n",
        "output_cols"
      ],
      "execution_count": null,
      "outputs": [
        {
          "output_type": "execute_result",
          "data": {
            "text/plain": [
              "['charges']"
            ]
          },
          "metadata": {
            "tags": []
          },
          "execution_count": 191
        }
      ]
    },
    {
      "cell_type": "code",
      "metadata": {
        "colab": {
          "base_uri": "https://localhost:8080/"
        },
        "id": "dPBxbJXg6GnF",
        "outputId": "cd0efea6-8b96-4595-f460-d0bc675ec78a"
      },
      "source": [
        "min_val = min(output_cols)\n",
        "print('minimum:',min_val)"
      ],
      "execution_count": null,
      "outputs": [
        {
          "output_type": "stream",
          "text": [
            "minimum: 1133.092639\n"
          ],
          "name": "stdout"
        }
      ]
    },
    {
      "cell_type": "code",
      "metadata": {
        "colab": {
          "base_uri": "https://localhost:8080/"
        },
        "id": "y2ZiZMD2fLuy",
        "outputId": "4e46c67f-6974-41a9-e0ce-708a8894884f"
      },
      "source": [
        "max_val = max(output_cols)\n",
        "print('maximum:',max_val)"
      ],
      "execution_count": null,
      "outputs": [
        {
          "output_type": "stream",
          "text": [
            "maximum: 64408.1322901\n"
          ],
          "name": "stdout"
        }
      ]
    },
    {
      "cell_type": "code",
      "metadata": {
        "colab": {
          "base_uri": "https://localhost:8080/"
        },
        "id": "F7tmCTnM6Rst",
        "outputId": "145d6b3c-c05c-42b0-e838-2dec1b973d93"
      },
      "source": [
        "average = output_cols.mean()\n",
        "print('average: ',average)"
      ],
      "execution_count": null,
      "outputs": [
        {
          "output_type": "stream",
          "text": [
            "average:  13518.891197422412\n"
          ],
          "name": "stdout"
        }
      ]
    },
    {
      "cell_type": "code",
      "metadata": {
        "colab": {
          "base_uri": "https://localhost:8080/"
        },
        "id": "1-SYJ0hhQk0S",
        "outputId": "7d5278a2-5654-448a-d69b-6aaa7ba1c4d3"
      },
      "source": [
        "print('min val is: ',output_cols.min() )\n",
        "print('max val is: ',output_cols.max() )\n",
        "print('avg val is: ',output_cols.mean() )"
      ],
      "execution_count": null,
      "outputs": [
        {
          "output_type": "stream",
          "text": [
            "min val is:  1133.092639\n",
            "max val is:  64408.1322901\n",
            "avg val is:  13518.891197422412\n"
          ],
          "name": "stdout"
        }
      ]
    },
    {
      "cell_type": "code",
      "metadata": {
        "colab": {
          "base_uri": "https://localhost:8080/",
          "height": 204
        },
        "id": "_PFRFpRY8imD",
        "outputId": "2ec74661-3eee-47dd-c268-3cdf481658ed"
      },
      "source": [
        "data.head()"
      ],
      "execution_count": null,
      "outputs": [
        {
          "output_type": "execute_result",
          "data": {
            "text/html": [
              "<div>\n",
              "<style scoped>\n",
              "    .dataframe tbody tr th:only-of-type {\n",
              "        vertical-align: middle;\n",
              "    }\n",
              "\n",
              "    .dataframe tbody tr th {\n",
              "        vertical-align: top;\n",
              "    }\n",
              "\n",
              "    .dataframe thead th {\n",
              "        text-align: right;\n",
              "    }\n",
              "</style>\n",
              "<table border=\"1\" class=\"dataframe\">\n",
              "  <thead>\n",
              "    <tr style=\"text-align: right;\">\n",
              "      <th></th>\n",
              "      <th>age</th>\n",
              "      <th>sex</th>\n",
              "      <th>bmi</th>\n",
              "      <th>children</th>\n",
              "      <th>smoker</th>\n",
              "      <th>charges</th>\n",
              "    </tr>\n",
              "  </thead>\n",
              "  <tbody>\n",
              "    <tr>\n",
              "      <th>665</th>\n",
              "      <td>43</td>\n",
              "      <td>male</td>\n",
              "      <td>46.05260</td>\n",
              "      <td>2</td>\n",
              "      <td>yes</td>\n",
              "      <td>42986.034704</td>\n",
              "    </tr>\n",
              "    <tr>\n",
              "      <th>579</th>\n",
              "      <td>25</td>\n",
              "      <td>female</td>\n",
              "      <td>28.39265</td>\n",
              "      <td>0</td>\n",
              "      <td>no</td>\n",
              "      <td>3238.556263</td>\n",
              "    </tr>\n",
              "    <tr>\n",
              "      <th>84</th>\n",
              "      <td>37</td>\n",
              "      <td>female</td>\n",
              "      <td>42.10800</td>\n",
              "      <td>2</td>\n",
              "      <td>yes</td>\n",
              "      <td>40234.884190</td>\n",
              "    </tr>\n",
              "    <tr>\n",
              "      <th>244</th>\n",
              "      <td>63</td>\n",
              "      <td>female</td>\n",
              "      <td>33.56540</td>\n",
              "      <td>0</td>\n",
              "      <td>yes</td>\n",
              "      <td>29818.397256</td>\n",
              "    </tr>\n",
              "    <tr>\n",
              "      <th>1307</th>\n",
              "      <td>32</td>\n",
              "      <td>male</td>\n",
              "      <td>34.02520</td>\n",
              "      <td>4</td>\n",
              "      <td>yes</td>\n",
              "      <td>21687.203588</td>\n",
              "    </tr>\n",
              "  </tbody>\n",
              "</table>\n",
              "</div>"
            ],
            "text/plain": [
              "      age     sex       bmi  children smoker       charges\n",
              "665    43    male  46.05260         2    yes  42986.034704\n",
              "579    25  female  28.39265         0     no   3238.556263\n",
              "84     37  female  42.10800         2    yes  40234.884190\n",
              "244    63  female  33.56540         0    yes  29818.397256\n",
              "1307   32    male  34.02520         4    yes  21687.203588"
            ]
          },
          "metadata": {
            "tags": []
          },
          "execution_count": 134
        }
      ]
    },
    {
      "cell_type": "code",
      "metadata": {
        "colab": {
          "base_uri": "https://localhost:8080/",
          "height": 349
        },
        "id": "2Y1Cfqkv6Rp6",
        "outputId": "5f628057-18b7-415d-9f4d-1b801adf7d3e"
      },
      "source": [
        "# Create a scatter plot\n",
        "import seaborn as sns\n",
        "sns.boxplot(data.sex, data.age, hue=data.smoker);\n",
        "\n",
        "# Chart title\n",
        "plt.title(\"scattering data\");\n",
        "plt.show()"
      ],
      "execution_count": null,
      "outputs": [
        {
          "output_type": "stream",
          "text": [
            "/usr/local/lib/python3.7/dist-packages/seaborn/_decorators.py:43: FutureWarning: Pass the following variables as keyword args: x, y. From version 0.12, the only valid positional argument will be `data`, and passing other arguments without an explicit keyword will result in an error or misinterpretation.\n",
            "  FutureWarning\n"
          ],
          "name": "stderr"
        },
        {
          "output_type": "display_data",
          "data": {
            "image/png": "[encoded data removed]",
            "text/plain": [
              "<Figure size 432x288 with 1 Axes>"
            ]
          },
          "metadata": {
            "tags": [],
            "needs_background": "light"
          }
        }
      ]
    },
    {
      "cell_type": "code",
      "metadata": {
        "colab": {
          "base_uri": "https://localhost:8080/",
          "height": 279
        },
        "id": "th5BBcbN6RnK",
        "outputId": "bbe36d8a-ce05-4b36-bf7b-9edb144c5159"
      },
      "source": [
        "sns.barplot(x=\"sex\", y=\"bmi\", hue=\"children\", data=data);"
      ],
      "execution_count": null,
      "outputs": [
        {
          "output_type": "display_data",
          "data": {
            "image/png": "[encoded data removed]",
            "text/plain": [
              "<Figure size 432x288 with 1 Axes>"
            ]
          },
          "metadata": {
            "tags": [],
            "needs_background": "light"
          }
        }
      ]
    },
    {
      "cell_type": "code",
      "metadata": {
        "colab": {
          "base_uri": "https://localhost:8080/",
          "height": 279
        },
        "id": "wzFEY63IRdnZ",
        "outputId": "126a1fd7-f8d5-41f0-fbe5-fa047d92a1df"
      },
      "source": [
        "sns.histplot(data.charges)\n",
        "plt.show()"
      ],
      "execution_count": null,
      "outputs": [
        {
          "output_type": "display_data",
          "data": {
            "image/png": "[encoded data removed]",
            "text/plain": [
              "<Figure size 432x288 with 1 Axes>"
            ]
          },
          "metadata": {
            "tags": [],
            "needs_background": "light"
          }
        }
      ]
    },
    {
      "cell_type": "markdown",
      "metadata": {
        "id": "Z0NbC-w9fLu3"
      },
      "source": [
        "## Step 2: Prepare the dataset for training\n",
        "\n",
        "We need to convert the data from the Pandas dataframe into a PyTorch tensors for training. To do this, the first step is to convert it numpy arrays. If you've filled out `input_cols`, `categorial_cols` and `output_cols` correctly, this following function will perform the conversion to numpy arrays."
      ]
    },
    {
      "cell_type": "code",
      "metadata": {
        "id": "-FICsCUkfLu4"
      },
      "source": [
        "def dataframe_to_arrays(data):\n",
        "    # Make a copy of the original dataframe\n",
        "    dataframe1 = data.copy(deep=True)\n",
        "    # Convert non-numeric categorical columns to numbers\n",
        "    for col in categorical_cols:\n",
        "        dataframe1[col] = dataframe1[col].astype('category').cat.codes\n",
        "    # Extract input & outupts as numpy arrays\n",
        "    inputs_array = dataframe1[input_cols].to_numpy()\n",
        "    targets_array = dataframe1[output_cols].to_numpy()\n",
        "    return inputs_array, targets_array"
      ],
      "execution_count": null,
      "outputs": []
    },
    {
      "cell_type": "code",
      "metadata": {
        "colab": {
          "base_uri": "https://localhost:8080/"
        },
        "id": "BybGfpFsfLu6",
        "outputId": "3e24c3d9-d3bc-40ae-db79-7d9b7a8b9ad9"
      },
      "source": [
        "inputs_array, targets_array = dataframe_to_arrays(data)\n",
        "inputs_array, targets_array"
      ],
      "execution_count": null,
      "outputs": [
        {
          "output_type": "execute_result",
          "data": {
            "text/plain": [
              "(array([[43.     ,  1.     , 46.0526 ,  2.     ,  1.     ],\n",
              "        [25.     ,  0.     , 28.39265,  0.     ,  0.     ],\n",
              "        [37.     ,  0.     , 42.108  ,  2.     ,  1.     ],\n",
              "        ...,\n",
              "        [47.     ,  1.     , 30.7461 ,  1.     ,  1.     ],\n",
              "        [35.     ,  1.     , 29.1973 ,  1.     ,  0.     ],\n",
              "        [43.     ,  0.     , 30.5767 ,  1.     ,  1.     ]]),\n",
              " array([[42986.034704 ],\n",
              "        [ 3238.5562635],\n",
              "        [40234.88419  ],\n",
              "        ...,\n",
              "        [22198.463669 ],\n",
              "        [ 5176.467857 ],\n",
              "        [21989.055723 ]]))"
            ]
          },
          "metadata": {
            "tags": []
          },
          "execution_count": 193
        }
      ]
    },
    {
      "cell_type": "code",
      "metadata": {
        "id": "W0jMLsJTfLu7"
      },
      "source": [
        "inputs = torch.from_numpy(inputs_array).float()\n",
        "targets = torch.from_numpy(targets_array).float()"
      ],
      "execution_count": null,
      "outputs": []
    },
    {
      "cell_type": "code",
      "metadata": {
        "colab": {
          "base_uri": "https://localhost:8080/"
        },
        "id": "V7WLiU6KfLu8",
        "outputId": "a3472ac0-4e7f-49f4-829a-00131526bd5c"
      },
      "source": [
        "inputs.dtype, targets.dtype"
      ],
      "execution_count": null,
      "outputs": [
        {
          "output_type": "execute_result",
          "data": {
            "text/plain": [
              "(torch.float32, torch.float32)"
            ]
          },
          "metadata": {
            "tags": []
          },
          "execution_count": 202
        }
      ]
    },
    {
      "cell_type": "markdown",
      "metadata": {
        "id": "zIdIIDtDfLu8"
      },
      "source": [
        "Next, we need to create PyTorch datasets & data loaders for training & validation. We'll start by creating a `TensorDataset`."
      ]
    },
    {
      "cell_type": "code",
      "metadata": {
        "colab": {
          "base_uri": "https://localhost:8080/"
        },
        "id": "VpTDkQIOfLu9",
        "outputId": "f8a5fa13-c87c-43f9-89db-7fa580bc69f3"
      },
      "source": [
        "dataset = TensorDataset(inputs, targets)\n",
        "dataset"
      ],
      "execution_count": null,
      "outputs": [
        {
          "output_type": "execute_result",
          "data": {
            "text/plain": [
              "<torch.utils.data.dataset.TensorDataset at 0x7f6ce0972cd0>"
            ]
          },
          "metadata": {
            "tags": []
          },
          "execution_count": 204
        }
      ]
    },
    {
      "cell_type": "code",
      "metadata": {
        "id": "3dl_M_K7fLu-"
      },
      "source": [
        "val_percent = 0.15 # between 0.1 and 0.2\n",
        "val_size = int(num_rows * val_percent)\n",
        "train_size = num_rows - val_size\n",
        "\n",
        "\n",
        "train_ds, val_ds = random_split(dataset, (train_size, val_size)) # Use the random_split function to split dataset into 2 parts of the desired length"
      ],
      "execution_count": null,
      "outputs": []
    },
    {
      "cell_type": "code",
      "metadata": {
        "id": "e9hNZC37fLu_"
      },
      "source": [
        "batch_size = 128"
      ],
      "execution_count": null,
      "outputs": []
    },
    {
      "cell_type": "code",
      "metadata": {
        "id": "o4pfzQA7fLvA"
      },
      "source": [
        "train_loader = DataLoader(train_ds, batch_size, shuffle=True)\n",
        "val_loader = DataLoader(val_ds, batch_size)"
      ],
      "execution_count": null,
      "outputs": []
    },
    {
      "cell_type": "markdown",
      "metadata": {
        "id": "MSqJ7Vi1fLvA"
      },
      "source": [
        "Let's look at a batch of data to verify everything is working fine so far."
      ]
    },
    {
      "cell_type": "code",
      "metadata": {
        "colab": {
          "base_uri": "https://localhost:8080/"
        },
        "id": "szZOfO_7fLvB",
        "outputId": "0a383568-0979-4e93-cfb1-8019a4d100ee"
      },
      "source": [
        "for xb, yb in train_loader:\n",
        "    print(\"inputs:\", xb)\n",
        "    print(\"targets:\", yb)\n",
        "    break"
      ],
      "execution_count": null,
      "outputs": [
        {
          "output_type": "stream",
          "text": [
            "inputs: tensor([[21.0000,  0.0000, 39.5428,  2.0000,  0.0000],\n",
            "        [23.0000,  0.0000, 34.0252,  0.0000,  0.0000],\n",
            "        [18.0000,  0.0000, 36.6690,  0.0000,  0.0000],\n",
            "        [38.0000,  0.0000, 45.6533,  0.0000,  0.0000],\n",
            "        [55.0000,  0.0000, 35.9370,  2.0000,  0.0000],\n",
            "        [63.0000,  0.0000, 38.4780,  0.0000,  0.0000],\n",
            "        [26.0000,  0.0000, 27.3581,  0.0000,  0.0000],\n",
            "        [27.0000,  1.0000, 39.4278,  3.0000,  0.0000],\n",
            "        [47.0000,  0.0000, 43.5600,  1.0000,  0.0000],\n",
            "        [45.0000,  0.0000, 36.8989,  1.0000,  1.0000],\n",
            "        [25.0000,  1.0000, 37.0139,  0.0000,  0.0000],\n",
            "        [54.0000,  0.0000, 56.5070,  2.0000,  0.0000],\n",
            "        [62.0000,  1.0000, 36.3242,  0.0000,  0.0000],\n",
            "        [51.0000,  1.0000, 38.2784,  0.0000,  0.0000],\n",
            "        [19.0000,  1.0000, 38.6232,  0.0000,  1.0000],\n",
            "        [53.0000,  0.0000, 27.6848,  1.0000,  1.0000],\n",
            "        [19.0000,  0.0000, 34.9448,  0.0000,  1.0000],\n",
            "        [19.0000,  0.0000, 29.7721,  1.0000,  0.0000],\n",
            "        [52.0000,  0.0000, 29.1973,  1.0000,  1.0000],\n",
            "        [33.0000,  1.0000, 51.3040,  5.0000,  0.0000],\n",
            "        [19.0000,  1.0000, 25.0470,  0.0000,  0.0000],\n",
            "        [53.0000,  1.0000, 35.6708,  0.0000,  0.0000],\n",
            "        [22.0000,  1.0000, 44.8547,  2.0000,  1.0000],\n",
            "        [27.0000,  1.0000, 39.5307,  0.0000,  0.0000],\n",
            "        [38.0000,  1.0000, 37.5100,  1.0000,  0.0000],\n",
            "        [38.0000,  1.0000, 20.3461,  2.0000,  0.0000],\n",
            "        [52.0000,  0.0000, 54.0870,  3.0000,  0.0000],\n",
            "        [29.0000,  0.0000, 26.3235,  1.0000,  1.0000],\n",
            "        [42.0000,  1.0000, 30.0806,  0.0000,  0.0000],\n",
            "        [20.0000,  0.0000, 35.8160,  0.0000,  0.0000],\n",
            "        [19.0000,  0.0000, 26.2570,  0.0000,  1.0000],\n",
            "        [60.0000,  1.0000, 39.6880,  0.0000,  1.0000],\n",
            "        [24.0000,  1.0000, 34.4850,  0.0000,  1.0000],\n",
            "        [25.0000,  0.0000, 50.9773,  1.0000,  0.0000],\n",
            "        [54.0000,  1.0000, 41.3941,  2.0000,  1.0000],\n",
            "        [21.0000,  1.0000, 42.9913,  0.0000,  0.0000],\n",
            "        [56.0000,  1.0000, 38.4659,  2.0000,  1.0000],\n",
            "        [52.0000,  0.0000, 56.5675,  5.0000,  0.0000],\n",
            "        [26.0000,  1.0000, 39.8090,  2.0000,  1.0000],\n",
            "        [43.0000,  1.0000, 28.0720,  0.0000,  0.0000],\n",
            "        [33.0000,  1.0000, 51.3766,  1.0000,  0.0000],\n",
            "        [35.0000,  0.0000, 28.3927,  2.0000,  0.0000],\n",
            "        [29.0000,  1.0000, 27.7029,  0.0000,  1.0000],\n",
            "        [23.0000,  1.0000, 38.3933,  3.0000,  1.0000],\n",
            "        [49.0000,  0.0000, 51.6428,  2.0000,  0.0000],\n",
            "        [47.0000,  0.0000, 41.0372,  3.0000,  0.0000],\n",
            "        [54.0000,  0.0000, 34.9448,  2.0000,  0.0000],\n",
            "        [20.0000,  1.0000, 33.0330,  0.0000,  1.0000],\n",
            "        [33.0000,  1.0000, 33.2206,  2.0000,  0.0000],\n",
            "        [55.0000,  0.0000, 39.6577,  2.0000,  0.0000],\n",
            "        [24.0000,  0.0000, 33.3960,  0.0000,  0.0000],\n",
            "        [61.0000,  1.0000, 43.6810,  3.0000,  0.0000],\n",
            "        [64.0000,  1.0000, 46.2099,  0.0000,  0.0000],\n",
            "        [19.0000,  0.0000, 31.1514,  1.0000,  0.0000],\n",
            "        [43.0000,  0.0000, 55.9020,  0.0000,  1.0000],\n",
            "        [51.0000,  1.0000, 30.7340,  0.0000,  0.0000],\n",
            "        [44.0000,  1.0000, 38.7382,  2.0000,  0.0000],\n",
            "        [46.0000,  1.0000, 36.8989,  3.0000,  1.0000],\n",
            "        [51.0000,  1.0000, 30.0019,  2.0000,  1.0000],\n",
            "        [21.0000,  1.0000, 28.7375,  2.0000,  0.0000],\n",
            "        [31.0000,  0.0000, 31.1454,  0.0000,  0.0000],\n",
            "        [39.0000,  0.0000, 28.1628,  3.0000,  0.0000],\n",
            "        [31.0000,  0.0000, 37.5886,  0.0000,  0.0000],\n",
            "        [58.0000,  1.0000, 34.5999,  0.0000,  0.0000],\n",
            "        [36.0000,  1.0000, 37.3587,  1.0000,  0.0000],\n",
            "        [50.0000,  0.0000, 38.2360,  2.0000,  0.0000],\n",
            "        [61.0000,  0.0000, 26.6684,  0.0000,  0.0000],\n",
            "        [50.0000,  1.0000, 54.1717,  1.0000,  0.0000],\n",
            "        [19.0000,  0.0000, 33.7590,  0.0000,  1.0000],\n",
            "        [41.0000,  1.0000, 40.5955,  0.0000,  0.0000],\n",
            "        [49.0000,  0.0000, 27.3581,  1.0000,  0.0000],\n",
            "        [55.0000,  0.0000, 44.8910,  0.0000,  0.0000],\n",
            "        [18.0000,  1.0000, 40.3293,  0.0000,  0.0000],\n",
            "        [48.0000,  0.0000, 32.9907,  1.0000,  0.0000],\n",
            "        [42.0000,  0.0000, 48.8477,  2.0000,  1.0000],\n",
            "        [42.0000,  0.0000, 45.8590,  0.0000,  0.0000],\n",
            "        [31.0000,  1.0000, 43.9230,  2.0000,  1.0000],\n",
            "        [22.0000,  1.0000, 32.4764,  0.0000,  0.0000],\n",
            "        [46.0000,  0.0000, 42.9913,  0.0000,  1.0000],\n",
            "        [56.0000,  1.0000, 41.6603,  0.0000,  0.0000],\n",
            "        [51.0000,  0.0000, 41.3820,  1.0000,  0.0000],\n",
            "        [49.0000,  1.0000, 43.3906,  0.0000,  0.0000],\n",
            "        [19.0000,  1.0000, 41.2610,  0.0000,  0.0000],\n",
            "        [19.0000,  1.0000, 25.2890,  1.0000,  0.0000],\n",
            "        [58.0000,  0.0000, 27.5517,  0.0000,  0.0000],\n",
            "        [32.0000,  1.0000, 33.6804,  1.0000,  0.0000],\n",
            "        [64.0000,  1.0000, 40.9948,  0.0000,  1.0000],\n",
            "        [23.0000,  0.0000, 28.0478,  2.0000,  0.0000],\n",
            "        [54.0000,  1.0000, 38.2360,  0.0000,  0.0000],\n",
            "        [53.0000,  0.0000, 27.3581,  3.0000,  1.0000],\n",
            "        [40.0000,  0.0000, 33.1540,  1.0000,  0.0000],\n",
            "        [19.0000,  0.0000, 29.6571,  1.0000,  0.0000],\n",
            "        [28.0000,  0.0000, 33.2750,  2.0000,  0.0000],\n",
            "        [46.0000,  0.0000, 33.5412,  1.0000,  0.0000],\n",
            "        [39.0000,  1.0000, 42.7130,  2.0000,  1.0000],\n",
            "        [61.0000,  1.0000, 43.3906,  0.0000,  1.0000],\n",
            "        [27.0000,  0.0000, 37.9940,  0.0000,  1.0000],\n",
            "        [64.0000,  0.0000, 48.0370,  0.0000,  0.0000],\n",
            "        [37.0000,  0.0000, 28.2777,  2.0000,  0.0000],\n",
            "        [55.0000,  0.0000, 36.4694,  2.0000,  0.0000],\n",
            "        [63.0000,  0.0000, 32.6458,  0.0000,  1.0000],\n",
            "        [54.0000,  1.0000, 49.0836,  3.0000,  1.0000],\n",
            "        [39.0000,  1.0000, 54.9703,  2.0000,  0.0000],\n",
            "        [23.0000,  1.0000, 32.0771,  0.0000,  0.0000],\n",
            "        [62.0000,  1.0000, 38.0666,  1.0000,  0.0000],\n",
            "        [34.0000,  0.0000, 36.5541,  1.0000,  1.0000],\n",
            "        [50.0000,  1.0000, 39.0830,  1.0000,  1.0000],\n",
            "        [44.0000,  0.0000, 53.1069,  2.0000,  1.0000],\n",
            "        [20.0000,  0.0000, 34.8298,  0.0000,  0.0000],\n",
            "        [40.0000,  0.0000, 50.1182,  1.0000,  0.0000],\n",
            "        [18.0000,  1.0000, 40.8617,  1.0000,  0.0000],\n",
            "        [51.0000,  0.0000, 44.3707,  2.0000,  0.0000],\n",
            "        [44.0000,  1.0000, 26.4385,  3.0000,  0.0000],\n",
            "        [18.0000,  0.0000, 48.7388,  0.0000,  0.0000],\n",
            "        [28.0000,  0.0000, 31.3813,  1.0000,  0.0000],\n",
            "        [52.0000,  1.0000, 44.4070,  0.0000,  0.0000],\n",
            "        [53.0000,  0.0000, 45.2903,  1.0000,  0.0000],\n",
            "        [50.0000,  0.0000, 33.1056,  0.0000,  0.0000],\n",
            "        [53.0000,  0.0000, 32.3070,  2.0000,  0.0000],\n",
            "        [28.0000,  0.0000, 34.9448,  1.0000,  0.0000],\n",
            "        [64.0000,  0.0000, 47.2505,  3.0000,  0.0000],\n",
            "        [46.0000,  0.0000, 34.9690,  2.0000,  0.0000],\n",
            "        [60.0000,  0.0000, 33.3355,  0.0000,  0.0000],\n",
            "        [49.0000,  0.0000, 28.8524,  3.0000,  1.0000],\n",
            "        [54.0000,  1.0000, 25.4221,  2.0000,  0.0000],\n",
            "        [33.0000,  0.0000, 22.3850,  1.0000,  0.0000],\n",
            "        [36.0000,  0.0000, 32.5308,  0.0000,  0.0000],\n",
            "        [60.0000,  0.0000, 36.9050,  0.0000,  0.0000]])\n",
            "targets: tensor([[26279.1406],\n",
            "        [ 2717.0149],\n",
            "        [ 2225.7732],\n",
            "        [ 5451.5928],\n",
            "        [12000.1719],\n",
            "        [14019.7588],\n",
            "        [ 3208.5840],\n",
            "        [ 4895.3892],\n",
            "        [ 8642.4756],\n",
            "        [40122.7734],\n",
            "        [ 2754.6689],\n",
            "        [11653.8057],\n",
            "        [13485.6211],\n",
            "        [ 9265.8770],\n",
            "        [34087.7930],\n",
            "        [23477.2383],\n",
            "        [17925.9922],\n",
            "        [ 2736.3364],\n",
            "        [24126.5391],\n",
            "        [ 6732.9053],\n",
            "        [ 1255.2441],\n",
            "        [ 9582.5205],\n",
            "        [37859.2930],\n",
            "        [ 2522.0088],\n",
            "        [ 5543.1445],\n",
            "        [ 6706.9502],\n",
            "        [11525.8018],\n",
            "        [16824.2949],\n",
            "        [ 6026.5562],\n",
            "        [ 1894.0974],\n",
            "        [13982.9512],\n",
            "        [53116.7383],\n",
            "        [35499.0039],\n",
            "        [ 3270.8201],\n",
            "        [44703.3555],\n",
            "        [ 1547.7944],\n",
            "        [44252.0039],\n",
            "        [12718.4600],\n",
            "        [36446.0703],\n",
            "        [ 6312.9395],\n",
            "        [11439.9824],\n",
            "        [ 6466.3145],\n",
            "        [16300.1494],\n",
            "        [36550.9922],\n",
            "        [ 9898.8975],\n",
            "        [10216.1592],\n",
            "        [12217.6182],\n",
            "        [16395.1758],\n",
            "        [ 5314.0840],\n",
            "        [12391.3184],\n",
            "        [19144.7715],\n",
            "        [28220.7012],\n",
            "        [14555.0410],\n",
            "        [ 2737.9368],\n",
            "        [46321.8359],\n",
            "        [ 8870.2939],\n",
            "        [ 8197.4316],\n",
            "        [41127.7578],\n",
            "        [24207.0566],\n",
            "        [ 3107.8665],\n",
            "        [ 3794.1877],\n",
            "        [ 8066.3398],\n",
            "        [ 4390.4937],\n",
            "        [11853.2383],\n",
            "        [ 5427.0977],\n",
            "        [10219.6084],\n",
            "        [13752.5225],\n",
            "        [ 9149.3174],\n",
            "        [17053.7734],\n",
            "        [ 5756.8359],\n",
            "        [ 9662.6611],\n",
            "        [10820.7803],\n",
            "        [ 1147.3000],\n",
            "        [ 9541.7227],\n",
            "        [44335.3398],\n",
            "        [ 6538.7529],\n",
            "        [39098.1094],\n",
            "        [ 1681.6495],\n",
            "        [42532.7812],\n",
            "        [10700.1680],\n",
            "        [ 9971.4277],\n",
            "        [ 8205.6523],\n",
            "        [ 1274.0564],\n",
            "        [ 1850.4149],\n",
            "        [11952.1201],\n",
            "        [ 4498.9468],\n",
            "        [47358.1523],\n",
            "        [14570.3350],\n",
            "        [ 9948.9365],\n",
            "        [25122.1191],\n",
            "        [ 6561.8550],\n",
            "        [ 2736.2031],\n",
            "        [20379.4473],\n",
            "        [ 8314.9648],\n",
            "        [40504.9297],\n",
            "        [47065.0977],\n",
            "        [35187.2617],\n",
            "        [14462.2217],\n",
            "        [ 6753.2954],\n",
            "        [12000.7891],\n",
            "        [29239.9746],\n",
            "        [49034.6719],\n",
            "        [ 6419.8335],\n",
            "        [ 1834.0347],\n",
            "        [27270.9941],\n",
            "        [44383.3164],\n",
            "        [42338.2891],\n",
            "        [46662.9961],\n",
            "        [ 2481.7832],\n",
            "        [28761.5020],\n",
            "        [ 1742.8079],\n",
            "        [10956.6152],\n",
            "        [ 8980.0508],\n",
            "        [ 2239.7771],\n",
            "        [ 4174.9780],\n",
            "        [ 9236.0107],\n",
            "        [11069.2920],\n",
            "        [25913.1406],\n",
            "        [11262.2881],\n",
            "        [ 4381.1128],\n",
            "        [16245.9785],\n",
            "        [ 8911.5117],\n",
            "        [13349.2656],\n",
            "        [24347.9824],\n",
            "        [11123.8486],\n",
            "        [ 4813.6821],\n",
            "        [ 5320.4961],\n",
            "        [12764.5771]])\n"
          ],
          "name": "stdout"
        }
      ]
    },
    {
      "cell_type": "markdown",
      "metadata": {
        "id": "WM0At62bfLvC"
      },
      "source": [
        "## Step 3: Create a Linear Regression Model\n",
        "\n",
        "Our model itself is a fairly straightforward linear regression (we'll build more complex models in the next assignment). \n"
      ]
    },
    {
      "cell_type": "code",
      "metadata": {
        "id": "kCxEfO6ufLvD"
      },
      "source": [
        "input_size = len(input_cols)\n",
        "output_size = len(output_cols)"
      ],
      "execution_count": null,
      "outputs": []
    },
    {
      "cell_type": "code",
      "metadata": {
        "id": "8MDOp4aIVRFH"
      },
      "source": [
        "#loss_fn = torch.nn.functional.mse_loss(inputs, targets)\n",
        "F.l1_loss = torch.nn.functional.l1_loss"
      ],
      "execution_count": null,
      "outputs": []
    },
    {
      "cell_type": "code",
      "metadata": {
        "id": "3ccrl0VQfLvD"
      },
      "source": [
        "class InsuranceModel(nn.Module):\n",
        "    def __init__(self):\n",
        "        super().__init__()\n",
        "        self.linear = nn.Linear(input_size, output_size)                  # fill this (hint: use input_size & output_size defined above)\n",
        "        \n",
        "    def forward(self, xb):\n",
        "        out = self.linear(xb)                          # fill this\n",
        "        return out\n",
        "    \n",
        "    def training_step(self, batch):\n",
        "        inputs, targets = batch \n",
        "        # Generate predictions\n",
        "        out = self(inputs)          \n",
        "        # Calcuate loss\n",
        "        loss = F.l1_loss(out,targets)                          # fill this\n",
        "        return loss\n",
        "    \n",
        "    def validation_step(self, batch):\n",
        "        inputs, targets = batch\n",
        "        # Generate predictions\n",
        "        out = self(inputs)\n",
        "        # Calculate loss\n",
        "        loss =  F.l1_loss(out,targets)                          # fill this    \n",
        "        return {'val_loss': loss.detach()}\n",
        "        \n",
        "    def validation_epoch_end(self, outputs):\n",
        "        batch_losses = [x['val_loss'] for x in outputs]\n",
        "        epoch_loss = torch.stack(batch_losses).mean()   # Combine losses\n",
        "        return {'val_loss': epoch_loss.item()}\n",
        "    \n",
        "    def epoch_end(self, epoch, result, num_epochs):\n",
        "        # Print result every 20th epoch\n",
        "        if (epoch+1) % 20 == 0 or epoch == num_epochs-1:\n",
        "            print(\"Epoch [{}], val_loss: {:.4f}\".format(epoch+1, result['val_loss']))"
      ],
      "execution_count": null,
      "outputs": []
    },
    {
      "cell_type": "code",
      "metadata": {
        "id": "hIrMWM9ZfLvF"
      },
      "source": [
        "model = InsuranceModel()"
      ],
      "execution_count": null,
      "outputs": []
    },
    {
      "cell_type": "markdown",
      "metadata": {
        "id": "yeTjt3F-fLvG"
      },
      "source": [
        "Let's check out the weights and biases of the model using `model.parameters`."
      ]
    },
    {
      "cell_type": "code",
      "metadata": {
        "colab": {
          "base_uri": "https://localhost:8080/"
        },
        "id": "aB_Zfk1nfLvG",
        "outputId": "f8dee452-5001-41b4-99da-6cdc103435e8"
      },
      "source": [
        "list(model.parameters())"
      ],
      "execution_count": null,
      "outputs": [
        {
          "output_type": "execute_result",
          "data": {
            "text/plain": [
              "[Parameter containing:\n",
              " tensor([[ 0.1279, -0.1042,  0.2990, -0.3417, -0.4364]], requires_grad=True),\n",
              " Parameter containing:\n",
              " tensor([-0.3855], requires_grad=True)]"
            ]
          },
          "metadata": {
            "tags": []
          },
          "execution_count": 239
        }
      ]
    },
    {
      "cell_type": "markdown",
      "metadata": {
        "id": "B5wipZEPfLvH"
      },
      "source": [
        "## Step 4: Train the model to fit the data\n",
        "\n",
        "To train our model, we'll use the same `fit` function explained in the lecture. That's the benefit of defining a generic training loop - you can use it for any problem."
      ]
    },
    {
      "cell_type": "code",
      "metadata": {
        "id": "e_6xzMs8fLvH"
      },
      "source": [
        "def evaluate(model, val_loader):\n",
        "    outputs = [model.validation_step(batch) for batch in val_loader]\n",
        "    return model.validation_epoch_end(outputs)\n",
        "\n",
        "def fit(epochs, lr, model, train_loader, val_loader, opt_func=torch.optim.SGD):\n",
        "    history = []\n",
        "    optimizer = opt_func(model.parameters(), lr)\n",
        "    for epoch in range(epochs):\n",
        "        # Training Phase \n",
        "        for batch in train_loader:\n",
        "            loss = model.training_step(batch)\n",
        "            loss.backward()\n",
        "            optimizer.step()\n",
        "            optimizer.zero_grad()\n",
        "        # Validation phase\n",
        "        result = evaluate(model, val_loader)\n",
        "        model.epoch_end(epoch, result, epochs)\n",
        "        history.append(result)\n",
        "    return history"
      ],
      "execution_count": null,
      "outputs": []
    },
    {
      "cell_type": "code",
      "metadata": {
        "colab": {
          "base_uri": "https://localhost:8080/"
        },
        "id": "cferBAmafLvI",
        "outputId": "56fafe4f-0332-4727-8c83-9ee56ad0b5cc"
      },
      "source": [
        "result = evaluate(model,val_loader)  # Use the the evaluate function\n",
        "print(result)"
      ],
      "execution_count": null,
      "outputs": [
        {
          "output_type": "stream",
          "text": [
            "{'val_loss': 14868.943359375}\n"
          ],
          "name": "stdout"
        }
      ]
    },
    {
      "cell_type": "markdown",
      "metadata": {
        "id": "Qm2gX04XfLvI"
      },
      "source": [
        "\n",
        "We are now ready to train the model. You may need to run the training loop many times, for different number of epochs and with different learning rates, to get a good result. Also, if your loss becomes too large (or `nan`), you may have to re-initialize the model by running the cell `model = InsuranceModel()`. Experiment with this for a while, and try to get to as low a loss as possible."
      ]
    },
    {
      "cell_type": "code",
      "metadata": {
        "colab": {
          "base_uri": "https://localhost:8080/"
        },
        "id": "TYuexoL9fLvI",
        "outputId": "2d00ae66-4586-46c6-ddff-84d892682781"
      },
      "source": [
        "epochs = 200\n",
        "lr = 1e-3\n",
        "history1 = fit(epochs, lr, model, train_loader, val_loader)"
      ],
      "execution_count": null,
      "outputs": [
        {
          "output_type": "stream",
          "text": [
            "Epoch [20], val_loss: 13832.6377\n",
            "Epoch [40], val_loss: 13317.4355\n",
            "Epoch [60], val_loss: 12815.9688\n",
            "Epoch [80], val_loss: 12345.0684\n",
            "Epoch [100], val_loss: 11923.6318\n",
            "Epoch [120], val_loss: 11545.8652\n",
            "Epoch [140], val_loss: 11223.6016\n",
            "Epoch [160], val_loss: 10936.9590\n",
            "Epoch [180], val_loss: 10677.0957\n",
            "Epoch [200], val_loss: 10450.8037\n"
          ],
          "name": "stdout"
        }
      ]
    },
    {
      "cell_type": "code",
      "metadata": {
        "colab": {
          "base_uri": "https://localhost:8080/"
        },
        "id": "51g1xJHPfLvJ",
        "outputId": "b076c11e-eb7c-41cc-bc6d-9b5cdfc2b013"
      },
      "source": [
        "epochs = 400\n",
        "lr = 1e-5\n",
        "history2 = fit(epochs, lr, model, train_loader, val_loader)"
      ],
      "execution_count": null,
      "outputs": [
        {
          "output_type": "stream",
          "text": [
            "Epoch [20], val_loss: 10448.7168\n",
            "Epoch [40], val_loss: 10446.6270\n",
            "Epoch [60], val_loss: 10444.5430\n",
            "Epoch [80], val_loss: 10442.4531\n",
            "Epoch [100], val_loss: 10440.3730\n",
            "Epoch [120], val_loss: 10438.2754\n",
            "Epoch [140], val_loss: 10436.1875\n",
            "Epoch [160], val_loss: 10434.1035\n",
            "Epoch [180], val_loss: 10432.0195\n",
            "Epoch [200], val_loss: 10429.9355\n",
            "Epoch [220], val_loss: 10427.8652\n",
            "Epoch [240], val_loss: 10425.7832\n",
            "Epoch [260], val_loss: 10423.6953\n",
            "Epoch [280], val_loss: 10421.6211\n",
            "Epoch [300], val_loss: 10419.5547\n",
            "Epoch [320], val_loss: 10417.4775\n",
            "Epoch [340], val_loss: 10415.4062\n",
            "Epoch [360], val_loss: 10413.3447\n",
            "Epoch [380], val_loss: 10411.2754\n",
            "Epoch [400], val_loss: 10409.2061\n"
          ],
          "name": "stdout"
        }
      ]
    },
    {
      "cell_type": "code",
      "metadata": {
        "colab": {
          "base_uri": "https://localhost:8080/"
        },
        "id": "XHogSGzQfLvJ",
        "outputId": "f556d115-356d-4630-a166-86fc56997cc9"
      },
      "source": [
        "epochs = 500\n",
        "lr = 1e-3\n",
        "history3 = fit(epochs, lr, model, train_loader, val_loader)"
      ],
      "execution_count": null,
      "outputs": [
        {
          "output_type": "stream",
          "text": [
            "Epoch [20], val_loss: 10183.3984\n",
            "Epoch [40], val_loss: 10029.0156\n",
            "Epoch [60], val_loss: 9895.8945\n",
            "Epoch [80], val_loss: 9783.1973\n",
            "Epoch [100], val_loss: 9690.2148\n",
            "Epoch [120], val_loss: 9612.1582\n",
            "Epoch [140], val_loss: 9545.2090\n",
            "Epoch [160], val_loss: 9491.0938\n",
            "Epoch [180], val_loss: 9446.1953\n",
            "Epoch [200], val_loss: 9407.0166\n",
            "Epoch [220], val_loss: 9373.0703\n",
            "Epoch [240], val_loss: 9344.3555\n",
            "Epoch [260], val_loss: 9318.7500\n",
            "Epoch [280], val_loss: 9296.7246\n",
            "Epoch [300], val_loss: 9277.7090\n",
            "Epoch [320], val_loss: 9262.2656\n",
            "Epoch [340], val_loss: 9248.8809\n",
            "Epoch [360], val_loss: 9237.6738\n",
            "Epoch [380], val_loss: 9227.4609\n",
            "Epoch [400], val_loss: 9217.7480\n",
            "Epoch [420], val_loss: 9208.5596\n",
            "Epoch [440], val_loss: 9200.3594\n",
            "Epoch [460], val_loss: 9192.8066\n",
            "Epoch [480], val_loss: 9185.7227\n",
            "Epoch [500], val_loss: 9179.3320\n"
          ],
          "name": "stdout"
        }
      ]
    },
    {
      "cell_type": "code",
      "metadata": {
        "colab": {
          "base_uri": "https://localhost:8080/"
        },
        "id": "n4ZWiowTfLvJ",
        "outputId": "2a53d16f-0e6e-47ff-f02d-9af74a1fc4d7"
      },
      "source": [
        "epochs = 50\n",
        "lr = 1e-3\n",
        "history4 = fit(epochs, lr, model, train_loader, val_loader)"
      ],
      "execution_count": null,
      "outputs": [
        {
          "output_type": "stream",
          "text": [
            "Epoch [20], val_loss: 9173.5723\n",
            "Epoch [40], val_loss: 9167.9365\n",
            "Epoch [50], val_loss: 9165.3672\n"
          ],
          "name": "stdout"
        }
      ]
    },
    {
      "cell_type": "code",
      "metadata": {
        "colab": {
          "base_uri": "https://localhost:8080/"
        },
        "id": "IXjoYzNGfLvK",
        "outputId": "8f025f71-b57b-40bb-dafb-5b0d3b453158"
      },
      "source": [
        "epochs = 1000\n",
        "lr = 1e-3\n",
        "history5 = fit(epochs, lr, model, train_loader, val_loader)"
      ],
      "execution_count": null,
      "outputs": [
        {
          "output_type": "stream",
          "text": [
            "Epoch [20], val_loss: 9159.9404\n",
            "Epoch [40], val_loss: 9154.8145\n",
            "Epoch [60], val_loss: 9149.8301\n",
            "Epoch [80], val_loss: 9145.3516\n",
            "Epoch [100], val_loss: 9140.9648\n",
            "Epoch [120], val_loss: 9136.7871\n",
            "Epoch [140], val_loss: 9132.9170\n",
            "Epoch [160], val_loss: 9129.0039\n",
            "Epoch [180], val_loss: 9125.3545\n",
            "Epoch [200], val_loss: 9121.7578\n",
            "Epoch [220], val_loss: 9118.2480\n",
            "Epoch [240], val_loss: 9114.8809\n",
            "Epoch [260], val_loss: 9111.4707\n",
            "Epoch [280], val_loss: 9108.1172\n",
            "Epoch [300], val_loss: 9104.9629\n",
            "Epoch [320], val_loss: 9101.8955\n",
            "Epoch [340], val_loss: 9098.6875\n",
            "Epoch [360], val_loss: 9095.6699\n",
            "Epoch [380], val_loss: 9092.5625\n",
            "Epoch [400], val_loss: 9089.6650\n",
            "Epoch [420], val_loss: 9086.7949\n",
            "Epoch [440], val_loss: 9083.9102\n",
            "Epoch [460], val_loss: 9080.8916\n",
            "Epoch [480], val_loss: 9077.9961\n",
            "Epoch [500], val_loss: 9075.2422\n",
            "Epoch [520], val_loss: 9072.5400\n",
            "Epoch [540], val_loss: 9069.7715\n",
            "Epoch [560], val_loss: 9066.8594\n",
            "Epoch [580], val_loss: 9063.9746\n",
            "Epoch [600], val_loss: 9061.0811\n",
            "Epoch [620], val_loss: 9058.1094\n",
            "Epoch [640], val_loss: 9055.2871\n",
            "Epoch [660], val_loss: 9052.2520\n",
            "Epoch [680], val_loss: 9049.3672\n",
            "Epoch [700], val_loss: 9046.3203\n",
            "Epoch [720], val_loss: 9043.2852\n",
            "Epoch [740], val_loss: 9040.3467\n",
            "Epoch [760], val_loss: 9037.4697\n",
            "Epoch [780], val_loss: 9034.4297\n",
            "Epoch [800], val_loss: 9031.2998\n",
            "Epoch [820], val_loss: 9028.2520\n",
            "Epoch [840], val_loss: 9025.3789\n",
            "Epoch [860], val_loss: 9022.4648\n",
            "Epoch [880], val_loss: 9019.5127\n",
            "Epoch [900], val_loss: 9016.4883\n",
            "Epoch [920], val_loss: 9013.5332\n",
            "Epoch [940], val_loss: 9010.5977\n",
            "Epoch [960], val_loss: 9007.8418\n",
            "Epoch [980], val_loss: 9004.9492\n",
            "Epoch [1000], val_loss: 9002.2266\n"
          ],
          "name": "stdout"
        }
      ]
    },
    {
      "cell_type": "code",
      "metadata": {
        "id": "xNr2iLhafLvK"
      },
      "source": [
        "val_loss = 9002"
      ],
      "execution_count": null,
      "outputs": []
    },
    {
      "cell_type": "markdown",
      "metadata": {
        "id": "XMm2uG50fLvL"
      },
      "source": [
        "## Step 5: Make predictions using the trained model\n",
        "\n"
      ]
    },
    {
      "cell_type": "code",
      "metadata": {
        "id": "OcQEwZkWfLvM"
      },
      "source": [
        "def predict_single(input, target, model):\n",
        "    inputs = input.unsqueeze(0)\n",
        "    predictions = model(inputs)                # fill this\n",
        "    prediction = predictions[0].detach()\n",
        "    print(\"Input:\", input)\n",
        "    print(\"Target:\", target)\n",
        "    print(\"Prediction:\", prediction)"
      ],
      "execution_count": null,
      "outputs": []
    },
    {
      "cell_type": "code",
      "metadata": {
        "colab": {
          "base_uri": "https://localhost:8080/"
        },
        "id": "LRLpHjqRfLvM",
        "outputId": "e6a2ae80-3216-48c5-d662-1e3830214455"
      },
      "source": [
        "input, target = val_ds[0]\n",
        "predict_single(input, target, model)"
      ],
      "execution_count": null,
      "outputs": [
        {
          "output_type": "stream",
          "text": [
            "Input: tensor([56.0000,  1.0000, 40.8073,  0.0000,  0.0000])\n",
            "Target: tensor([11086.0078])\n",
            "Prediction: tensor([11282.5029])\n"
          ],
          "name": "stdout"
        }
      ]
    },
    {
      "cell_type": "code",
      "metadata": {
        "colab": {
          "base_uri": "https://localhost:8080/"
        },
        "id": "MttxCeQGfLvM",
        "outputId": "de025704-0106-4a8b-81e4-23295d2062ad"
      },
      "source": [
        "input, target = val_ds[10]\n",
        "predict_single(input, target, model)"
      ],
      "execution_count": null,
      "outputs": [
        {
          "output_type": "stream",
          "text": [
            "Input: tensor([48.0000,  0.0000, 44.2557,  0.0000,  0.0000])\n",
            "Target: tensor([8757.9033])\n",
            "Prediction: tensor([10191.1543])\n"
          ],
          "name": "stdout"
        }
      ]
    },
    {
      "cell_type": "code",
      "metadata": {
        "colab": {
          "base_uri": "https://localhost:8080/"
        },
        "id": "iRvEnA-zfLvM",
        "outputId": "0331aca7-af0b-464b-c660-312c1c0e9d33"
      },
      "source": [
        "input, target = val_ds[23]\n",
        "predict_single(input, target, model)"
      ],
      "execution_count": null,
      "outputs": [
        {
          "output_type": "stream",
          "text": [
            "Input: tensor([60.0000,  1.0000, 48.2790,  0.0000,  1.0000])\n",
            "Target: tensor([48655.0938])\n",
            "Prediction: tensor([12346.6807])\n"
          ],
          "name": "stdout"
        }
      ]
    }
  ]
}